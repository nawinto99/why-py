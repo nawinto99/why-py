{
  "nbformat": 4,
  "nbformat_minor": 0,
  "metadata": {
    "colab": {
      "name": "Contains Duplicate.ipynb",
      "provenance": [],
      "authorship_tag": "ABX9TyM7I/4FiLT9feorNzXOIKVG",
      "include_colab_link": true
    },
    "kernelspec": {
      "name": "python3",
      "display_name": "Python 3"
    },
    "language_info": {
      "name": "python"
    }
  },
  "cells": [
    {
      "cell_type": "markdown",
      "metadata": {
        "id": "view-in-github",
        "colab_type": "text"
      },
      "source": [
        "<a href=\"https://colab.research.google.com/github/nawinto99/why-py/blob/main/Contains_Duplicate.ipynb\" target=\"_parent\"><img src=\"https://colab.research.google.com/assets/colab-badge.svg\" alt=\"Open In Colab\"/></a>"
      ]
    },
    {
      "cell_type": "markdown",
      "source": [
        "**Given an integer array nums, return true if any value appears at least twice in the array, and return false if every element is distinct.**\n",
        "\n",
        "\n",
        "---\n",
        "\n",
        "\n",
        "\n",
        "**Example 1:**\n",
        "\n",
        "Input: nums = [1,2,3,1]\n",
        "\n",
        "Output: true\n",
        "\n",
        "**Example 2:**\n",
        "\n",
        "Input: nums = [1,2,3,4]\n",
        "\n",
        "Output: false\n",
        "\n",
        "**Example 3:**\n",
        "\n",
        "Input: nums = [1,1,1,3,3,4,3,2,4,2]\n",
        "\n",
        "Output: true"
      ],
      "metadata": {
        "id": "AauHHa8UIy70"
      }
    },
    {
      "cell_type": "code",
      "execution_count": 24,
      "metadata": {
        "id": "vi2_ykeJIvyl"
      },
      "outputs": [],
      "source": [
        "nums = [1,2,3,4]"
      ]
    },
    {
      "cell_type": "code",
      "source": [
        "def chk_dup(nums) -> bool:\n",
        "  print(nums)\n",
        "  for i in range(len(nums)):\n",
        "    a = nums[i]\n",
        "    del nums[i]\n",
        "    if a in nums:\n",
        "      return True\n",
        "    else:\n",
        "      return False"
      ],
      "metadata": {
        "id": "oM7TqHr9JywJ"
      },
      "execution_count": 22,
      "outputs": []
    },
    {
      "cell_type": "code",
      "source": [
        "chk_dup(nums)"
      ],
      "metadata": {
        "colab": {
          "base_uri": "https://localhost:8080/"
        },
        "id": "x0xlxK3kKcI0",
        "outputId": "b39f6ea9-60a4-4d3e-9d6b-587324b3bd68"
      },
      "execution_count": 25,
      "outputs": [
        {
          "output_type": "stream",
          "name": "stdout",
          "text": [
            "[1, 2, 3, 4]\n"
          ]
        },
        {
          "output_type": "execute_result",
          "data": {
            "text/plain": [
              "False"
            ]
          },
          "metadata": {},
          "execution_count": 25
        }
      ]
    }
  ]
}